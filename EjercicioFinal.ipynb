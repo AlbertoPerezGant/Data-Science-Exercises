{
 "metadata": {
  "language_info": {
   "codemirror_mode": {
    "name": "ipython",
    "version": 3
   },
   "file_extension": ".py",
   "mimetype": "text/x-python",
   "name": "python",
   "nbconvert_exporter": "python",
   "pygments_lexer": "ipython3",
   "version": "3.9.6"
  },
  "orig_nbformat": 4,
  "kernelspec": {
   "name": "python3",
   "display_name": "Python 3.9.6 64-bit"
  },
  "interpreter": {
   "hash": "e2a7c3d20469dda411fd3211f02092a920078d1ca97c72d3dc7928b841d3a44a"
  }
 },
 "nbformat": 4,
 "nbformat_minor": 2,
 "cells": [
  {
   "source": [
    "# Ejercicio final\n",
    "\n",
    "Hacer web scraping para obtener datos de una pagina como wikipedia y realizar un modelo para predecir el IDH de los paises leidos"
   ],
   "cell_type": "markdown",
   "metadata": {}
  },
  {
   "cell_type": "code",
   "execution_count": 130,
   "metadata": {},
   "outputs": [],
   "source": [
    "from sklearn.model_selection import train_test_split, KFold\n",
    "from sklearn.metrics import r2_score\n",
    "from sklearn import linear_model\n",
    "from bs4 import BeautifulSoup\n",
    "import requests, re, time\n",
    "import pandas as pd \n",
    "import numpy as np \n",
    "\n",
    "pagina = requests.get(\"https://es.wikipedia.org/wiki/Anexo:Pa%C3%ADses_de_Am%C3%A9rica_Latina_por_%C3%ADndice_de_desarrollo_humano\")\n",
    "soup = BeautifulSoup(pagina.content, \"html.parser\")"
   ]
  },
  {
   "cell_type": "code",
   "execution_count": 2,
   "metadata": {},
   "outputs": [],
   "source": [
    "tabla = soup.find('table', attrs={'class': 'wikitable sortable'})"
   ]
  },
  {
   "cell_type": "code",
   "execution_count": 3,
   "metadata": {},
   "outputs": [
    {
     "output_type": "stream",
     "name": "stdout",
     "text": [
      "<table class=\"wikitable sortable\">\n<tbody><tr>\n<th>País\n</th>\n<th>2018\n</th>\n<th>2015\n</th>\n<th>2010\n</th>\n<th>2005\n</th>\n<th>2000\n</th>\n<th>1995\n</th>\n<th>1990\n</th>\n<th>Cambio\n</th>\n<th>Porcentaje\n</th></tr>\n<tr>\n<td><span class=\"flagicon\"><img alt=\"Bandera de Chile\" class=\"thumbborder\" data-file-height=\"1000\" data-file-width=\"1500\" decoding=\"async\" height=\"13\" src=\"//upload.wikimedia.org/wikipedia/commons/thumb/7/78/Flag_of_Chile.svg/20px-Flag_of_Chile.svg.png\" srcset=\"//upload.wikimedia.org/wikipedia/commons/thumb/7/78/Flag_of_Chile.svg/30px-Flag_of_Chile.svg.png 1.5x, //upload.wikimedia.org/wikipedia/commons/thumb/7/78/Flag_of_Chile.svg/40px-Flag_of_Chile.svg.png 2x\" title=\"Bandera de Chile\" width=\"20\"/></span><a href=\"/wiki/Chile\" title=\"Chile\">Chile</a>\n</td>\n<td>0,847\n</td>\n<td>0,839\n</td>\n<td>0,800\n</td>\n<td>0,788\n</td>\n<td>0,753\n</td>\n<td>0,726\n</td>\n<td>0,703\n</td>\n<td>0,144\n</td>\n<td>20.48%\n</td></tr>\n<tr>\n<td><span class=\"flagicon\"><img alt=\"Bandera de Argentina\" class=\"thumbborder\" data-file-height=\"500\" data-file-width=\"800\" decoding=\"async\" height=\"13\" src=\"//upload.wikimedia.org/wikipedia/commons/thumb/1/1a/Flag_of_Argentina.svg/20px-Flag_of_Argentina.svg.png\" srcset=\"//upload.wikimedia.org/wikipedia/commons/thumb/1/1a/Flag_of_Argentina.svg/30px-Flag_of_Argentina.svg.png 1.5x, //upload.wikimedia.org/wikipedia/commons/thumb/1/1a/Flag_of_Argentina.svg/40px-Flag_of_Argentina.svg.png 2x\" title=\"Bandera de Argentina\" width=\"20\"/></span> <a href=\"/wiki/Argentina\" title=\"Argentina\">Argentina</a>\n</td>\n<td>0,830\n</td>\n<td>0,828\n</td>\n<td>0,818\n</td>\n<td>0,777\n</td>\n<td>0,770\n</td>\n<td>0,731\n</td>\n<td>0,707\n</td>\n<td>0,123\n</td>\n<td>17.39%\n</td></tr>\n<tr>\n<td><span class=\"flagicon\"><img alt=\"Bandera de Uruguay\" class=\"thumbborder\" data-file-height=\"630\" data-file-width=\"945\" decoding=\"async\" height=\"13\" src=\"//upload.wikimedia.org/wikipedia/commons/thumb/f/fe/Flag_of_Uruguay.svg/20px-Flag_of_Uruguay.svg.png\" srcset=\"//upload.wikimedia.org/wikipedia/commons/thumb/f/fe/Flag_of_Uruguay.svg/30px-Flag_of_Uruguay.svg.png 1.5x, //upload.wikimedia.org/wikipedia/commons/thumb/f/fe/Flag_of_Uruguay.svg/40px-Flag_of_Uruguay.svg.png 2x\" title=\"Bandera de Uruguay\" width=\"20\"/></span><a href=\"/wiki/Uruguay\" title=\"Uruguay\">Uruguay</a>\n</td>\n<td>0,808\n</td>\n<td>0,802\n</td>\n<td>0,774\n</td>\n<td>0,756\n</td>\n<td>0,742\n</td>\n<td>0,710\n</td>\n<td>0,692\n</td>\n<td>0,116\n</td>\n<td>16.76%\n</td></tr>\n<tr>\n<td><span class=\"flagicon\"><img alt=\"Bandera de Costa Rica\" class=\"thumbborder\" data-file-height=\"600\" data-file-width=\"1000\" decoding=\"async\" height=\"12\" src=\"//upload.wikimedia.org/wikipedia/commons/thumb/f/f2/Flag_of_Costa_Rica.svg/20px-Flag_of_Costa_Rica.svg.png\" srcset=\"//upload.wikimedia.org/wikipedia/commons/thumb/f/f2/Flag_of_Costa_Rica.svg/30px-Flag_of_Costa_Rica.svg.png 1.5x, //upload.wikimedia.org/wikipedia/commons/thumb/f/f2/Flag_of_Costa_Rica.svg/40px-Flag_of_Costa_Rica.svg.png 2x\" title=\"Bandera de Costa Rica\" width=\"20\"/></span> <a href=\"/wiki/Costa_Rica\" title=\"Costa Rica\">Costa Rica</a>\n</td>\n<td>0,795\n</td>\n<td>0,782\n</td>\n<td>0,758\n</td>\n<td>0,739\n</td>\n<td>0,719\n</td>\n<td>0,688\n</td>\n<td>0,659\n</td>\n<td>0,136\n</td>\n<td>20.63%\n</td></tr>\n<tr>\n<td><span class=\"flagicon\"><img alt=\"Bandera de Cuba\" class=\"thumbborder\" data-file-height=\"600\" data-file-width=\"1200\" decoding=\"async\" height=\"10\" src=\"//upload.wikimedia.org/wikipedia/commons/thumb/b/bd/Flag_of_Cuba.svg/20px-Flag_of_Cuba.svg.png\" srcset=\"//upload.wikimedia.org/wikipedia/commons/thumb/b/bd/Flag_of_Cuba.svg/30px-Flag_of_Cuba.svg.png 1.5x, //upload.wikimedia.org/wikipedia/commons/thumb/b/bd/Flag_of_Cuba.svg/40px-Flag_of_Cuba.svg.png 2x\" title=\"Bandera de Cuba\" width=\"20\"/></span> <a href=\"/wiki/Cuba\" title=\"Cuba\">Cuba</a>\n</td>\n<td>0,794\n</td>\n<td>0,786\n</td>\n<td>0,754\n</td>\n<td>0,727\n</td>\n<td>0,711\n</td>\n<td>0,686\n</td>\n<td>0,655\n</td>\n<td>0,139\n</td>\n<td>21.22%\n</td></tr>\n<tr>\n<td><span class=\"flagicon\"><img alt=\"Bandera de Panamá\" class=\"thumbborder\" data-file-height=\"600\" data-file-width=\"900\" decoding=\"async\" height=\"13\" src=\"//upload.wikimedia.org/wikipedia/commons/thumb/a/ab/Flag_of_Panama.svg/20px-Flag_of_Panama.svg.png\" srcset=\"//upload.wikimedia.org/wikipedia/commons/thumb/a/ab/Flag_of_Panama.svg/30px-Flag_of_Panama.svg.png 1.5x, //upload.wikimedia.org/wikipedia/commons/thumb/a/ab/Flag_of_Panama.svg/40px-Flag_of_Panama.svg.png 2x\" title=\"Bandera de Panamá\" width=\"20\"/></span> <a href=\"/wiki/Panam%C3%A1\" title=\"Panamá\">Panamá</a>\n</td>\n<td>0,779\n</td>\n<td>0,768\n</td>\n<td>0,777\n</td>\n<td>0,730\n</td>\n<td>0,686\n</td>\n<td>0,654\n</td>\n<td>0,676\n</td>\n<td>0,102\n</td>\n<td>15.08%\n</td></tr>\n<tr>\n<td><span class=\"flagicon\"><img alt=\"Bandera de México\" class=\"thumbborder\" data-file-height=\"560\" data-file-width=\"980\" decoding=\"async\" height=\"11\" src=\"//upload.wikimedia.org/wikipedia/commons/thumb/f/fc/Flag_of_Mexico.svg/20px-Flag_of_Mexico.svg.png\" srcset=\"//upload.wikimedia.org/wikipedia/commons/thumb/f/fc/Flag_of_Mexico.svg/30px-Flag_of_Mexico.svg.png 1.5x, //upload.wikimedia.org/wikipedia/commons/thumb/f/fc/Flag_of_Mexico.svg/40px-Flag_of_Mexico.svg.png 2x\" title=\"Bandera de México\" width=\"20\"/></span> <a href=\"/wiki/M%C3%A9xico\" title=\"México\">México</a>\n</td>\n<td>0,767\n</td>\n<td>0,759\n</td>\n<td>0,739\n</td>\n<td>0,729\n</td>\n<td>0,705\n</td>\n<td>0,672\n</td>\n<td>0,652\n</td>\n<td>0,115\n</td>\n<td>17.63%\n</td></tr>\n<tr>\n<td><span class=\"flagicon\"><img alt=\"Bandera de Brasil\" class=\"thumbborder\" data-file-height=\"504\" data-file-width=\"720\" decoding=\"async\" height=\"14\" src=\"//upload.wikimedia.org/wikipedia/commons/thumb/0/05/Flag_of_Brazil.svg/20px-Flag_of_Brazil.svg.png\" srcset=\"//upload.wikimedia.org/wikipedia/commons/thumb/0/05/Flag_of_Brazil.svg/30px-Flag_of_Brazil.svg.png 1.5x, //upload.wikimedia.org/wikipedia/commons/thumb/0/05/Flag_of_Brazil.svg/40px-Flag_of_Brazil.svg.png 2x\" title=\"Bandera de Brasil\" width=\"20\"/></span> <a href=\"/wiki/Brasil\" title=\"Brasil\">Brasil</a>\n</td>\n<td>0,761\n</td>\n<td>0,755\n</td>\n<td>0,726\n</td>\n<td>0,699\n</td>\n<td>0,684\n</td>\n<td>0,650\n</td>\n<td>0,613\n</td>\n<td>0,148\n</td>\n<td>24.14%\n</td></tr>\n<tr>\n<td><span class=\"flagicon\"><img alt=\"Bandera de Colombia\" class=\"thumbborder\" data-file-height=\"600\" data-file-width=\"900\" decoding=\"async\" height=\"13\" src=\"//upload.wikimedia.org/wikipedia/commons/thumb/2/21/Flag_of_Colombia.svg/20px-Flag_of_Colombia.svg.png\" srcset=\"//upload.wikimedia.org/wikipedia/commons/thumb/2/21/Flag_of_Colombia.svg/30px-Flag_of_Colombia.svg.png 1.5x, //upload.wikimedia.org/wikipedia/commons/thumb/2/21/Flag_of_Colombia.svg/40px-Flag_of_Colombia.svg.png 2x\" title=\"Bandera de Colombia\" width=\"20\"/></span> <a href=\"/wiki/Colombia\" title=\"Colombia\">Colombia</a>\n</td>\n<td>0,761\n</td>\n<td>0,753\n</td>\n<td>0,729\n</td>\n<td>0,692\n</td>\n<td>0,662\n</td>\n<td>0,633\n</td>\n<td>0,599\n</td>\n<td>0,162\n</td>\n<td>27.04%\n</td></tr>\n<tr>\n<td><span class=\"flagicon\"><img alt=\"Bandera de Guatemala\" class=\"thumbborder\" data-file-height=\"600\" data-file-width=\"960\" decoding=\"async\" height=\"13\" src=\"//upload.wikimedia.org/wikipedia/commons/thumb/e/ec/Flag_of_Guatemala.svg/20px-Flag_of_Guatemala.svg.png\" srcset=\"//upload.wikimedia.org/wikipedia/commons/thumb/e/ec/Flag_of_Guatemala.svg/30px-Flag_of_Guatemala.svg.png 1.5x, //upload.wikimedia.org/wikipedia/commons/thumb/e/ec/Flag_of_Guatemala.svg/40px-Flag_of_Guatemala.svg.png 2x\" title=\"Bandera de Guatemala\" width=\"20\"/></span> <a href=\"/wiki/Guatemala\" title=\"Guatemala\">Guatemala</a>\n</td>\n<td>0,745\n</td>\n<td>0,733\n</td>\n<td>0,700\n</td>\n<td>0,675\n</td>\n<td>0,653\n</td>\n<td>0,624\n</td>\n<td>0,593\n</td>\n<td>0,152\n</td>\n<td>25.63%\n</td></tr>\n<tr>\n<td><span class=\"flagicon\"><img alt=\"Bandera de la República Dominicana\" class=\"thumbborder\" data-file-height=\"600\" data-file-width=\"900\" decoding=\"async\" height=\"13\" src=\"//upload.wikimedia.org/wikipedia/commons/thumb/9/9f/Flag_of_the_Dominican_Republic.svg/20px-Flag_of_the_Dominican_Republic.svg.png\" srcset=\"//upload.wikimedia.org/wikipedia/commons/thumb/9/9f/Flag_of_the_Dominican_Republic.svg/30px-Flag_of_the_Dominican_Republic.svg.png 1.5x, //upload.wikimedia.org/wikipedia/commons/thumb/9/9f/Flag_of_the_Dominican_Republic.svg/40px-Flag_of_the_Dominican_Republic.svg.png 2x\" title=\"Bandera de la República Dominicana\" width=\"20\"/></span> <a href=\"/wiki/Rep%C3%BAblica_Dominicana\" title=\"República Dominicana\">República Dominicana</a>\n</td>\n<td>0,726\n</td>\n<td>0,763\n</td>\n<td>0,753\n</td>\n<td>0,714\n</td>\n<td>0,672\n</td>\n<td>0,661\n</td>\n<td>0,638\n</td>\n<td>0,088\n</td>\n<td>13.79%\n</td></tr>\n<tr>\n<td><span class=\"flagicon\"><img alt=\"Bandera de Paraguay\" class=\"thumbborder\" data-file-height=\"660\" data-file-width=\"1200\" decoding=\"async\" height=\"11\" src=\"//upload.wikimedia.org/wikipedia/commons/thumb/2/27/Flag_of_Paraguay.svg/20px-Flag_of_Paraguay.svg.png\" srcset=\"//upload.wikimedia.org/wikipedia/commons/thumb/2/27/Flag_of_Paraguay.svg/30px-Flag_of_Paraguay.svg.png 1.5x, //upload.wikimedia.org/wikipedia/commons/thumb/2/27/Flag_of_Paraguay.svg/40px-Flag_of_Paraguay.svg.png 2x\" title=\"Bandera de Paraguay\" width=\"20\"/></span> <a href=\"/wiki/Paraguay\" title=\"Paraguay\">Paraguay</a>\n</td>\n<td>0,730\n</td>\n<td>0,718\n</td>\n<td>0,692\n</td>\n<td>0,667\n</td>\n<td>0,640\n</td>\n<td>0,622\n</td>\n<td>0,588\n</td>\n<td>0,136\n</td>\n<td>23.12%\n</td></tr>\n<tr>\n<td><span class=\"flagicon\"><img alt=\"Bandera de Bolivia\" class=\"thumbborder\" data-file-height=\"750\" data-file-width=\"1100\" decoding=\"async\" height=\"14\" src=\"//upload.wikimedia.org/wikipedia/commons/thumb/4/48/Flag_of_Bolivia.svg/20px-Flag_of_Bolivia.svg.png\" srcset=\"//upload.wikimedia.org/wikipedia/commons/thumb/4/48/Flag_of_Bolivia.svg/30px-Flag_of_Bolivia.svg.png 1.5x, //upload.wikimedia.org/wikipedia/commons/thumb/4/48/Flag_of_Bolivia.svg/40px-Flag_of_Bolivia.svg.png 2x\" title=\"Bandera de Bolivia\" width=\"20\"/></span> <a href=\"/wiki/Bolivia\" title=\"Bolivia\">Bolivia</a>\n</td>\n<td>0,703\n</td>\n<td>0,685\n</td>\n<td>0,656\n</td>\n<td>0,632\n</td>\n<td>0,616\n</td>\n<td>0,578\n</td>\n<td>0,540\n</td>\n<td>0,163\n</td>\n<td>30.18%\n</td></tr>\n<tr>\n<td><span class=\"flagicon\"><img alt=\"Bandera de Venezuela\" class=\"thumbborder\" data-file-height=\"600\" data-file-width=\"900\" decoding=\"async\" height=\"13\" src=\"//upload.wikimedia.org/wikipedia/commons/thumb/0/06/Flag_of_Venezuela.svg/20px-Flag_of_Venezuela.svg.png\" srcset=\"//upload.wikimedia.org/wikipedia/commons/thumb/0/06/Flag_of_Venezuela.svg/30px-Flag_of_Venezuela.svg.png 1.5x, //upload.wikimedia.org/wikipedia/commons/thumb/0/06/Flag_of_Venezuela.svg/40px-Flag_of_Venezuela.svg.png 2x\" title=\"Bandera de Venezuela\" width=\"20\"/></span> <a href=\"/wiki/Venezuela\" title=\"Venezuela\">Venezuela</a>\n</td>\n<td>0,667\n</td>\n<td>0,660\n</td>\n<td>0,659\n</td>\n<td>0,638\n</td>\n<td>0,608\n</td>\n<td>0,573\n</td>\n<td>0,529\n</td>\n<td>0,138\n</td>\n<td>26.08%\n</td></tr>\n<tr>\n<td><span class=\"flagicon\"><img alt=\"Bandera de El Salvador\" class=\"thumbborder\" data-file-height=\"567\" data-file-width=\"1005\" decoding=\"async\" height=\"11\" src=\"//upload.wikimedia.org/wikipedia/commons/thumb/3/34/Flag_of_El_Salvador.svg/20px-Flag_of_El_Salvador.svg.png\" srcset=\"//upload.wikimedia.org/wikipedia/commons/thumb/3/34/Flag_of_El_Salvador.svg/30px-Flag_of_El_Salvador.svg.png 1.5x, //upload.wikimedia.org/wikipedia/commons/thumb/3/34/Flag_of_El_Salvador.svg/40px-Flag_of_El_Salvador.svg.png 2x\" title=\"Bandera de El Salvador\" width=\"20\"/></span> <a href=\"/wiki/El_Salvador\" title=\"El Salvador\">El Salvador</a>\n</td>\n<td>0,651\n</td>\n<td>0,646\n</td>\n<td>0,602\n</td>\n<td>0,571\n</td>\n<td>0,546\n</td>\n<td>0,507\n</td>\n<td>0,478\n</td>\n<td>0,173\n</td>\n<td>36.19%\n</td></tr>\n<tr>\n<td><span class=\"flagicon\"><img alt=\"Bandera de Nicaragua\" class=\"thumbborder\" data-file-height=\"600\" data-file-width=\"1000\" decoding=\"async\" height=\"12\" src=\"//upload.wikimedia.org/wikipedia/commons/thumb/1/19/Flag_of_Nicaragua.svg/20px-Flag_of_Nicaragua.svg.png\" srcset=\"//upload.wikimedia.org/wikipedia/commons/thumb/1/19/Flag_of_Nicaragua.svg/30px-Flag_of_Nicaragua.svg.png 1.5x, //upload.wikimedia.org/wikipedia/commons/thumb/1/19/Flag_of_Nicaragua.svg/40px-Flag_of_Nicaragua.svg.png 2x\" title=\"Bandera de Nicaragua\" width=\"20\"/></span> <a href=\"/wiki/Nicaragua\" title=\"Nicaragua\">Nicaragua</a>\n</td>\n<td>0,651\n</td>\n<td>0,644\n</td>\n<td>0,614\n</td>\n<td>0,593\n</td>\n<td>0,568\n</td>\n<td>0,523\n</td>\n<td>0,494\n</td>\n<td>0,157\n</td>\n<td>31.78%\n</td></tr>\n<tr>\n<td><span class=\"flagicon\"><img alt=\"Bandera de Honduras\" class=\"thumbborder\" data-file-height=\"630\" data-file-width=\"1260\" decoding=\"async\" height=\"10\" src=\"//upload.wikimedia.org/wikipedia/commons/thumb/8/82/Flag_of_Honduras.svg/20px-Flag_of_Honduras.svg.png\" srcset=\"//upload.wikimedia.org/wikipedia/commons/thumb/8/82/Flag_of_Honduras.svg/30px-Flag_of_Honduras.svg.png 1.5x, //upload.wikimedia.org/wikipedia/commons/thumb/8/82/Flag_of_Honduras.svg/40px-Flag_of_Honduras.svg.png 2x\" title=\"Bandera de Honduras\" width=\"20\"/></span> <a href=\"/wiki/Honduras\" title=\"Honduras\">Honduras</a>\n</td>\n<td>0,623\n</td>\n<td>0,613\n</td>\n<td>0,598\n</td>\n<td>0,581\n</td>\n<td>0,555\n</td>\n<td>0,530\n</td>\n<td>0,508\n</td>\n<td>0,115\n</td>\n<td>22.63%\n</td></tr>\n<tr>\n<td><span class=\"flagicon\"><img alt=\"Bandera de Haití\" class=\"thumbborder\" data-file-height=\"600\" data-file-width=\"1000\" decoding=\"async\" height=\"12\" src=\"//upload.wikimedia.org/wikipedia/commons/thumb/5/56/Flag_of_Haiti.svg/20px-Flag_of_Haiti.svg.png\" srcset=\"//upload.wikimedia.org/wikipedia/commons/thumb/5/56/Flag_of_Haiti.svg/30px-Flag_of_Haiti.svg.png 1.5x, //upload.wikimedia.org/wikipedia/commons/thumb/5/56/Flag_of_Haiti.svg/40px-Flag_of_Haiti.svg.png 2x\" title=\"Bandera de Haití\" width=\"20\"/></span> <a href=\"/wiki/Hait%C3%AD\" title=\"Haití\">Haití</a>\n</td>\n<td>0,503\n</td>\n<td>0,493\n</td>\n<td>0,467\n</td>\n<td>0,451\n</td>\n<td>0,440\n</td>\n<td>0,421\n</td>\n<td>0,412\n</td>\n<td>0,091\n</td>\n<td>22.08%\n</td></tr>\n<tr>\n<td>Latinoamérica\n</td>\n<td>0,731\n</td>\n<td>0,725\n</td>\n<td>0,701\n</td>\n<td>0,676\n</td>\n<td>0,653\n</td>\n<td>0,622\n</td>\n<td>0,597\n</td>\n<td>0,134\n</td>\n<td>22.44%\n</td></tr></tbody></table>\n"
     ]
    }
   ],
   "source": [
    "print(tabla)"
   ]
  },
  {
   "cell_type": "code",
   "execution_count": 75,
   "metadata": {},
   "outputs": [
    {
     "output_type": "stream",
     "name": "stdout",
     "text": [
      "2018\n2015\n2010\n2005\n2000\n1995\n1990\n"
     ]
    }
   ],
   "source": [
    "nombreColumnas = []\n",
    "for elem in tabla.find_all(\"th\"):\n",
    "    if str(elem.string)[0] == \"2\" or str(elem.string)[0] == \"1\":\n",
    "        nombreColumnas.append(elem.string[:-1])\n",
    "        print(elem.string[:-1])"
   ]
  },
  {
   "cell_type": "code",
   "execution_count": 115,
   "metadata": {},
   "outputs": [
    {
     "output_type": "stream",
     "name": "stdout",
     "text": [
      "0,847\n\n0,839\n\n0,800\n\n0,788\n\n0,753\n\n0,726\n\n0,703\n\n0,144\n\n0,830\n\n0,828\n\n0,818\n\n0,777\n\n0,770\n\n0,731\n\n0,707\n\n0,123\n\n0,808\n\n0,802\n\n0,774\n\n0,756\n\n0,742\n\n0,710\n\n0,692\n\n0,116\n\n0,795\n\n0,782\n\n0,758\n\n0,739\n\n0,719\n\n0,688\n\n0,659\n\n0,136\n\n0,794\n\n0,786\n\n0,754\n\n0,727\n\n0,711\n\n0,686\n\n0,655\n\n0,139\n\n0,779\n\n0,768\n\n0,777\n\n0,730\n\n0,686\n\n0,654\n\n0,676\n\n0,102\n\n0,767\n\n0,759\n\n0,739\n\n0,729\n\n0,705\n\n0,672\n\n0,652\n\n0,115\n\n0,761\n\n0,755\n\n0,726\n\n0,699\n\n0,684\n\n0,650\n\n0,613\n\n0,148\n\n0,761\n\n0,753\n\n0,729\n\n0,692\n\n0,662\n\n0,633\n\n0,599\n\n0,162\n\n0,745\n\n0,733\n\n0,700\n\n0,675\n\n0,653\n\n0,624\n\n0,593\n\n0,152\n\n0,726\n\n0,763\n\n0,753\n\n0,714\n\n0,672\n\n0,661\n\n0,638\n\n0,088\n\n0,730\n\n0,718\n\n0,692\n\n0,667\n\n0,640\n\n0,622\n\n0,588\n\n0,136\n\n0,703\n\n0,685\n\n0,656\n\n0,632\n\n0,616\n\n0,578\n\n0,540\n\n0,163\n\n0,667\n\n0,660\n\n0,659\n\n0,638\n\n0,608\n\n0,573\n\n0,529\n\n0,138\n\n0,651\n\n0,646\n\n0,602\n\n0,571\n\n0,546\n\n0,507\n\n0,478\n\n0,173\n\n0,651\n\n0,644\n\n0,614\n\n0,593\n\n0,568\n\n0,523\n\n0,494\n\n0,157\n\n0,623\n\n0,613\n\n0,598\n\n0,581\n\n0,555\n\n0,530\n\n0,508\n\n0,115\n\n0,503\n\n0,493\n\n0,467\n\n0,451\n\n0,440\n\n0,421\n\n0,412\n\n0,091\n\n0,731\n\n0,725\n\n0,701\n\n0,676\n\n0,653\n\n0,622\n\n0,597\n\n0,134\n\n"
     ]
    }
   ],
   "source": [
    "for elem in tabla.find_all('td'):\n",
    "    if str(elem.string).find(\"Latinoamérica\") == True:\n",
    "        break\n",
    "    if str(elem.string) and not elem.find('span') and not str(elem.string)[0] != \"0\":\n",
    "        print(elem.string)"
   ]
  },
  {
   "cell_type": "code",
   "execution_count": 116,
   "metadata": {},
   "outputs": [
    {
     "output_type": "stream",
     "name": "stdout",
     "text": [
      "Chile\nArgentina\nUruguay\nCosta Rica\nCuba\nPanamá\nMéxico\nBrasil\nColombia\nGuatemala\nRepública Dominicana\nParaguay\nBolivia\nVenezuela\nEl Salvador\nNicaragua\nHonduras\nHaití\n"
     ]
    }
   ],
   "source": [
    "paises = []\n",
    "for elem in tabla.find_all([\"td\", \"img\"]):\n",
    "    #print(elem.a)\n",
    "    if str(elem.string).find(\"America Latina y el Caribe\") != -1:\n",
    "        print(elem.string)\n",
    "        paises.append(elem.string)\n",
    "    if elem.img is not None:\n",
    "        print(elem.find_next(\"a\").string)\n",
    "        paises.append(elem.find_next(\"a\").string)"
   ]
  },
  {
   "cell_type": "code",
   "execution_count": 118,
   "metadata": {},
   "outputs": [
    {
     "output_type": "execute_result",
     "data": {
      "text/plain": [
       "['Chile',\n",
       " 'Argentina',\n",
       " 'Uruguay',\n",
       " 'Costa Rica',\n",
       " 'Cuba',\n",
       " 'Panamá',\n",
       " 'México',\n",
       " 'Brasil',\n",
       " 'Colombia',\n",
       " 'Guatemala',\n",
       " 'República Dominicana',\n",
       " 'Paraguay',\n",
       " 'Bolivia',\n",
       " 'Venezuela',\n",
       " 'El Salvador',\n",
       " 'Nicaragua',\n",
       " 'Honduras',\n",
       " 'Haití']"
      ]
     },
     "metadata": {},
     "execution_count": 118
    }
   ],
   "source": [
    "paises"
   ]
  },
  {
   "cell_type": "code",
   "execution_count": 123,
   "metadata": {},
   "outputs": [],
   "source": [
    "valores = []\n",
    "for elem in tabla.find_all(\"td\"):\n",
    "    if str(elem.string).find(\"Latinoamérica\") != -1:\n",
    "        break\n",
    "    if str(elem.string)[0] == \"0\":\n",
    "        valor = float(elem.string[:-1].replace(\",\",\".\"))\n",
    "        if valor >=0.4:\n",
    "            valores.append(valor)"
   ]
  },
  {
   "cell_type": "code",
   "execution_count": 124,
   "metadata": {},
   "outputs": [
    {
     "output_type": "execute_result",
     "data": {
      "text/plain": [
       "array([0.847, 0.839, 0.8  , 0.788, 0.753, 0.726, 0.703, 0.83 , 0.828,\n",
       "       0.818, 0.777, 0.77 , 0.731, 0.707, 0.808, 0.802, 0.774, 0.756,\n",
       "       0.742, 0.71 , 0.692, 0.795, 0.782, 0.758, 0.739, 0.719, 0.688,\n",
       "       0.659, 0.794, 0.786, 0.754, 0.727, 0.711, 0.686, 0.655, 0.779,\n",
       "       0.768, 0.777, 0.73 , 0.686, 0.654, 0.676, 0.767, 0.759, 0.739,\n",
       "       0.729, 0.705, 0.672, 0.652, 0.761, 0.755, 0.726, 0.699, 0.684,\n",
       "       0.65 , 0.613, 0.761, 0.753, 0.729, 0.692, 0.662, 0.633, 0.599,\n",
       "       0.745, 0.733, 0.7  , 0.675, 0.653, 0.624, 0.593, 0.726, 0.763,\n",
       "       0.753, 0.714, 0.672, 0.661, 0.638, 0.73 , 0.718, 0.692, 0.667,\n",
       "       0.64 , 0.622, 0.588, 0.703, 0.685, 0.656, 0.632, 0.616, 0.578,\n",
       "       0.54 , 0.667, 0.66 , 0.659, 0.638, 0.608, 0.573, 0.529, 0.651,\n",
       "       0.646, 0.602, 0.571, 0.546, 0.507, 0.478, 0.651, 0.644, 0.614,\n",
       "       0.593, 0.568, 0.523, 0.494, 0.623, 0.613, 0.598, 0.581, 0.555,\n",
       "       0.53 , 0.508, 0.503, 0.493, 0.467, 0.451, 0.44 , 0.421, 0.412])"
      ]
     },
     "metadata": {},
     "execution_count": 124
    }
   ],
   "source": [
    "valores = np.array(valores)\n",
    "valores"
   ]
  },
  {
   "cell_type": "code",
   "execution_count": 125,
   "metadata": {},
   "outputs": [],
   "source": [
    "valores.shape = (len(paises), len(nombreColumnas))"
   ]
  },
  {
   "cell_type": "code",
   "execution_count": 126,
   "metadata": {},
   "outputs": [
    {
     "output_type": "execute_result",
     "data": {
      "text/plain": [
       "array([[0.847, 0.839, 0.8  , 0.788, 0.753, 0.726, 0.703],\n",
       "       [0.83 , 0.828, 0.818, 0.777, 0.77 , 0.731, 0.707],\n",
       "       [0.808, 0.802, 0.774, 0.756, 0.742, 0.71 , 0.692],\n",
       "       [0.795, 0.782, 0.758, 0.739, 0.719, 0.688, 0.659],\n",
       "       [0.794, 0.786, 0.754, 0.727, 0.711, 0.686, 0.655],\n",
       "       [0.779, 0.768, 0.777, 0.73 , 0.686, 0.654, 0.676],\n",
       "       [0.767, 0.759, 0.739, 0.729, 0.705, 0.672, 0.652],\n",
       "       [0.761, 0.755, 0.726, 0.699, 0.684, 0.65 , 0.613],\n",
       "       [0.761, 0.753, 0.729, 0.692, 0.662, 0.633, 0.599],\n",
       "       [0.745, 0.733, 0.7  , 0.675, 0.653, 0.624, 0.593],\n",
       "       [0.726, 0.763, 0.753, 0.714, 0.672, 0.661, 0.638],\n",
       "       [0.73 , 0.718, 0.692, 0.667, 0.64 , 0.622, 0.588],\n",
       "       [0.703, 0.685, 0.656, 0.632, 0.616, 0.578, 0.54 ],\n",
       "       [0.667, 0.66 , 0.659, 0.638, 0.608, 0.573, 0.529],\n",
       "       [0.651, 0.646, 0.602, 0.571, 0.546, 0.507, 0.478],\n",
       "       [0.651, 0.644, 0.614, 0.593, 0.568, 0.523, 0.494],\n",
       "       [0.623, 0.613, 0.598, 0.581, 0.555, 0.53 , 0.508],\n",
       "       [0.503, 0.493, 0.467, 0.451, 0.44 , 0.421, 0.412]])"
      ]
     },
     "metadata": {},
     "execution_count": 126
    }
   ],
   "source": [
    "valores"
   ]
  },
  {
   "cell_type": "code",
   "execution_count": 127,
   "metadata": {},
   "outputs": [],
   "source": [
    "df = pd.DataFrame(valores, columns=nombreColumnas)"
   ]
  },
  {
   "cell_type": "code",
   "execution_count": 128,
   "metadata": {},
   "outputs": [
    {
     "output_type": "execute_result",
     "data": {
      "text/plain": [
       "     2018   2015   2010   2005   2000   1995   1990\n",
       "0   0.847  0.839  0.800  0.788  0.753  0.726  0.703\n",
       "1   0.830  0.828  0.818  0.777  0.770  0.731  0.707\n",
       "2   0.808  0.802  0.774  0.756  0.742  0.710  0.692\n",
       "3   0.795  0.782  0.758  0.739  0.719  0.688  0.659\n",
       "4   0.794  0.786  0.754  0.727  0.711  0.686  0.655\n",
       "5   0.779  0.768  0.777  0.730  0.686  0.654  0.676\n",
       "6   0.767  0.759  0.739  0.729  0.705  0.672  0.652\n",
       "7   0.761  0.755  0.726  0.699  0.684  0.650  0.613\n",
       "8   0.761  0.753  0.729  0.692  0.662  0.633  0.599\n",
       "9   0.745  0.733  0.700  0.675  0.653  0.624  0.593\n",
       "10  0.726  0.763  0.753  0.714  0.672  0.661  0.638\n",
       "11  0.730  0.718  0.692  0.667  0.640  0.622  0.588\n",
       "12  0.703  0.685  0.656  0.632  0.616  0.578  0.540\n",
       "13  0.667  0.660  0.659  0.638  0.608  0.573  0.529\n",
       "14  0.651  0.646  0.602  0.571  0.546  0.507  0.478\n",
       "15  0.651  0.644  0.614  0.593  0.568  0.523  0.494\n",
       "16  0.623  0.613  0.598  0.581  0.555  0.530  0.508\n",
       "17  0.503  0.493  0.467  0.451  0.440  0.421  0.412"
      ],
      "text/html": "<div>\n<style scoped>\n    .dataframe tbody tr th:only-of-type {\n        vertical-align: middle;\n    }\n\n    .dataframe tbody tr th {\n        vertical-align: top;\n    }\n\n    .dataframe thead th {\n        text-align: right;\n    }\n</style>\n<table border=\"1\" class=\"dataframe\">\n  <thead>\n    <tr style=\"text-align: right;\">\n      <th></th>\n      <th>2018</th>\n      <th>2015</th>\n      <th>2010</th>\n      <th>2005</th>\n      <th>2000</th>\n      <th>1995</th>\n      <th>1990</th>\n    </tr>\n  </thead>\n  <tbody>\n    <tr>\n      <th>0</th>\n      <td>0.847</td>\n      <td>0.839</td>\n      <td>0.800</td>\n      <td>0.788</td>\n      <td>0.753</td>\n      <td>0.726</td>\n      <td>0.703</td>\n    </tr>\n    <tr>\n      <th>1</th>\n      <td>0.830</td>\n      <td>0.828</td>\n      <td>0.818</td>\n      <td>0.777</td>\n      <td>0.770</td>\n      <td>0.731</td>\n      <td>0.707</td>\n    </tr>\n    <tr>\n      <th>2</th>\n      <td>0.808</td>\n      <td>0.802</td>\n      <td>0.774</td>\n      <td>0.756</td>\n      <td>0.742</td>\n      <td>0.710</td>\n      <td>0.692</td>\n    </tr>\n    <tr>\n      <th>3</th>\n      <td>0.795</td>\n      <td>0.782</td>\n      <td>0.758</td>\n      <td>0.739</td>\n      <td>0.719</td>\n      <td>0.688</td>\n      <td>0.659</td>\n    </tr>\n    <tr>\n      <th>4</th>\n      <td>0.794</td>\n      <td>0.786</td>\n      <td>0.754</td>\n      <td>0.727</td>\n      <td>0.711</td>\n      <td>0.686</td>\n      <td>0.655</td>\n    </tr>\n    <tr>\n      <th>5</th>\n      <td>0.779</td>\n      <td>0.768</td>\n      <td>0.777</td>\n      <td>0.730</td>\n      <td>0.686</td>\n      <td>0.654</td>\n      <td>0.676</td>\n    </tr>\n    <tr>\n      <th>6</th>\n      <td>0.767</td>\n      <td>0.759</td>\n      <td>0.739</td>\n      <td>0.729</td>\n      <td>0.705</td>\n      <td>0.672</td>\n      <td>0.652</td>\n    </tr>\n    <tr>\n      <th>7</th>\n      <td>0.761</td>\n      <td>0.755</td>\n      <td>0.726</td>\n      <td>0.699</td>\n      <td>0.684</td>\n      <td>0.650</td>\n      <td>0.613</td>\n    </tr>\n    <tr>\n      <th>8</th>\n      <td>0.761</td>\n      <td>0.753</td>\n      <td>0.729</td>\n      <td>0.692</td>\n      <td>0.662</td>\n      <td>0.633</td>\n      <td>0.599</td>\n    </tr>\n    <tr>\n      <th>9</th>\n      <td>0.745</td>\n      <td>0.733</td>\n      <td>0.700</td>\n      <td>0.675</td>\n      <td>0.653</td>\n      <td>0.624</td>\n      <td>0.593</td>\n    </tr>\n    <tr>\n      <th>10</th>\n      <td>0.726</td>\n      <td>0.763</td>\n      <td>0.753</td>\n      <td>0.714</td>\n      <td>0.672</td>\n      <td>0.661</td>\n      <td>0.638</td>\n    </tr>\n    <tr>\n      <th>11</th>\n      <td>0.730</td>\n      <td>0.718</td>\n      <td>0.692</td>\n      <td>0.667</td>\n      <td>0.640</td>\n      <td>0.622</td>\n      <td>0.588</td>\n    </tr>\n    <tr>\n      <th>12</th>\n      <td>0.703</td>\n      <td>0.685</td>\n      <td>0.656</td>\n      <td>0.632</td>\n      <td>0.616</td>\n      <td>0.578</td>\n      <td>0.540</td>\n    </tr>\n    <tr>\n      <th>13</th>\n      <td>0.667</td>\n      <td>0.660</td>\n      <td>0.659</td>\n      <td>0.638</td>\n      <td>0.608</td>\n      <td>0.573</td>\n      <td>0.529</td>\n    </tr>\n    <tr>\n      <th>14</th>\n      <td>0.651</td>\n      <td>0.646</td>\n      <td>0.602</td>\n      <td>0.571</td>\n      <td>0.546</td>\n      <td>0.507</td>\n      <td>0.478</td>\n    </tr>\n    <tr>\n      <th>15</th>\n      <td>0.651</td>\n      <td>0.644</td>\n      <td>0.614</td>\n      <td>0.593</td>\n      <td>0.568</td>\n      <td>0.523</td>\n      <td>0.494</td>\n    </tr>\n    <tr>\n      <th>16</th>\n      <td>0.623</td>\n      <td>0.613</td>\n      <td>0.598</td>\n      <td>0.581</td>\n      <td>0.555</td>\n      <td>0.530</td>\n      <td>0.508</td>\n    </tr>\n    <tr>\n      <th>17</th>\n      <td>0.503</td>\n      <td>0.493</td>\n      <td>0.467</td>\n      <td>0.451</td>\n      <td>0.440</td>\n      <td>0.421</td>\n      <td>0.412</td>\n    </tr>\n  </tbody>\n</table>\n</div>"
     },
     "metadata": {},
     "execution_count": 128
    }
   ],
   "source": [
    "df"
   ]
  },
  {
   "cell_type": "code",
   "execution_count": 132,
   "metadata": {},
   "outputs": [],
   "source": [
    "X = df.iloc[:,1:len(df.columns)]\n",
    "Y = df.iloc[:,0]"
   ]
  },
  {
   "cell_type": "code",
   "execution_count": 133,
   "metadata": {},
   "outputs": [
    {
     "output_type": "stream",
     "name": "stdout",
     "text": [
      "R2:  0.3125373134355033\nR2:  -12.841951495660139\nR2:  -0.1467599942155977\nR2:  0.7502998878932683\nR2 medio -2.981468572136741\n"
     ]
    }
   ],
   "source": [
    "kf = KFold(n_splits=4)\n",
    "kf.get_n_splits(X)\n",
    "\n",
    "regr = linear_model.LinearRegression()\n",
    "\n",
    "resultados = []\n",
    "\n",
    "for train_index, test_index, in kf.split(X):\n",
    "    X_train, X_test = X.loc[train_index,], X.loc[test_index,]\n",
    "    y_train, y_test = Y[train_index], Y[test_index]\n",
    "    regr.fit(X_train, y_train)\n",
    "    predicciones = regr.predict(X_test)\n",
    "    print(\"R2: \", r2_score(y_test, predicciones))\n",
    "    resultados.append(r2_score(y_test, predicciones))\n",
    "\n",
    "print(\"R2 medio\", np.mean(resultados))"
   ]
  },
  {
   "cell_type": "code",
   "execution_count": 135,
   "metadata": {},
   "outputs": [
    {
     "output_type": "execute_result",
     "data": {
      "text/plain": [
       "LinearRegression()"
      ]
     },
     "metadata": {},
     "execution_count": 135
    }
   ],
   "source": [
    "regr = linear_model.LinearRegression()\n",
    "regr.fit(X ,Y)"
   ]
  },
  {
   "cell_type": "code",
   "execution_count": 136,
   "metadata": {},
   "outputs": [
    {
     "output_type": "execute_result",
     "data": {
      "text/plain": [
       "0.9895753306029531"
      ]
     },
     "metadata": {},
     "execution_count": 136
    }
   ],
   "source": [
    "r2_score(Y, regr.predict(X))"
   ]
  },
  {
   "cell_type": "code",
   "execution_count": 137,
   "metadata": {},
   "outputs": [
    {
     "output_type": "execute_result",
     "data": {
      "text/plain": [
       "array([ 1.04553409, -0.40795729,  0.12687929,  0.80778956, -0.755434  ,\n",
       "        0.17201752])"
      ]
     },
     "metadata": {},
     "execution_count": 137
    }
   ],
   "source": [
    "regr.coef_"
   ]
  },
  {
   "cell_type": "code",
   "execution_count": 138,
   "metadata": {},
   "outputs": [
    {
     "output_type": "execute_result",
     "data": {
      "text/plain": [
       "0.014182816040394841"
      ]
     },
     "metadata": {},
     "execution_count": 138
    }
   ],
   "source": [
    "regr.intercept_"
   ]
  },
  {
   "cell_type": "code",
   "execution_count": 142,
   "metadata": {},
   "outputs": [
    {
     "output_type": "execute_result",
     "data": {
      "text/plain": [
       "0     0.837376\n",
       "1     0.805505\n",
       "2     0.788104\n",
       "3     0.780499\n",
       "4     0.773320\n",
       "5     0.783703\n",
       "6     0.757942\n",
       "7     0.739497\n",
       "8     0.748735\n",
       "9     0.728004\n",
       "10    0.726140\n",
       "11    0.720440\n",
       "12    0.683394\n",
       "13    0.666365\n",
       "14    0.629477\n",
       "15    0.635720\n",
       "16    0.618393\n",
       "17    0.488375\n",
       "dtype: float64"
      ]
     },
     "metadata": {},
     "execution_count": 142
    }
   ],
   "source": [
    "np.sum(df.iloc[:,0:6] * regr.coef_ ,axis=1)"
   ]
  },
  {
   "cell_type": "code",
   "execution_count": null,
   "metadata": {},
   "outputs": [],
   "source": []
  }
 ]
}